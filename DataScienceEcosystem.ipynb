{
  "metadata": {
    "kernelspec": {
      "name": "python",
      "display_name": "Python (Pyodide)",
      "language": "python"
    },
    "language_info": {
      "codemirror_mode": {
        "name": "python",
        "version": 3
      },
      "file_extension": ".py",
      "mimetype": "text/x-python",
      "name": "python",
      "nbconvert_exporter": "python",
      "pygments_lexer": "ipython3",
      "version": "3.8"
    }
  },
  "nbformat_minor": 4,
  "nbformat": 4,
  "cells": [
    {
      "cell_type": "markdown",
      "source": "# Data Science Tools and Ecosystem",
      "metadata": {}
    },
    {
      "cell_type": "markdown",
      "source": "In this notebook, Data Science Tools and Ecosystem are summarized.",
      "metadata": {}
    },
    {
      "cell_type": "markdown",
      "source": "Some of the popular languages that Data Scientists use are: \n1. Python\n2. R\n3. SQL\n4. Julia\n5. Scala\n6. MATLAB\n7. Java\n8. SAS",
      "metadata": {}
    },
    {
      "cell_type": "markdown",
      "source": "Some of the commonly used libraries used by Data Scientists include:\n#### Python Libraries\n1. Pandas: For data manipulation and analysis, particularly with structured data (data frames).\n2. NumPy: For numerical computing and handling arrays/matrices. \n3. Matplotlib: A plotting library for creating static, animated, and interactive visualizations.\n4. Seaborn: Built on top of Matplotlib, it provides a high-level interface for drawing attractive and informative statistical graphics.\n5. Scikit-learn: For machine learning, providing tools for classification, regression, clustering, and more. \n6. TensorFlow: An open-source library for deep learning and machine learning.\n7. Keras: A high-level API for building and training deep learning models,often used with TensorFlow as a backend.\n8. PyTorch: Another popular deep learning library known for its dynamic computation graph and ease of use. \n9. Scipy: For Scientific and technical computing, extending NumPy with additional functions.\n10. Statsmodels: For statistical modeling and hypotesis testing.\n11. NLTK: For natural laguage processing (NLP) tasks.\n12. XGBoost: An optimized gradient boosting library for efficient and scalable machine learning models.\n13. LightGBM: A gradient boosting framework that uses tree-based learning algorithms, known for its efficiency and speed. \n\n#### R Libraries:\n1. ggplot2: For data visualization, based on the grammar of graphics.\n2. dplyr: For data manipulation, offering a wide range of data wrangling tools.\n3. tidyr: For data tidying, turning messy data into a clean format.\n4. caret: For machine learning, providing a unified interface to many machine learning algorithms.\n5. shiny: For building interactive web applications for data visualization.\n6. randomForest: For implementing random forest algorithms.\n7. rpart: For recursive partitioning and regression trees.\n9. lubridate: For working with date-time data.\n10. forecast: For time series analysis and forecasting.\n11. stringr: For string manipulation.\n  ",
      "metadata": {}
    },
    {
      "cell_type": "markdown",
      "source": "|Data Science Tools|\n|------------------|\n| Jupyter Notebook |\n|JupyterLab|\n|VS Code (Visual Studio Code)|\n|RStudio|\n|Spyder|\n|PyCharm Community Edition|\n\n",
      "metadata": {}
    },
    {
      "cell_type": "markdown",
      "source": "### Below are a few examples of evaluating arithmetic expressions in Python.",
      "metadata": {}
    },
    {
      "cell_type": "markdown",
      "source": "This is a simple arithmetic expression to multiply then add integers.\n",
      "metadata": {}
    },
    {
      "cell_type": "code",
      "source": "(3*4)+5",
      "metadata": {
        "trusted": true
      },
      "outputs": [
        {
          "execution_count": 1,
          "output_type": "execute_result",
          "data": {
            "text/plain": "17"
          },
          "metadata": {}
        }
      ],
      "execution_count": 1
    },
    {
      "cell_type": "markdown",
      "source": "This will convert 200 minutes to hours by dividing by 60.",
      "metadata": {}
    },
    {
      "cell_type": "code",
      "source": "200/60",
      "metadata": {
        "trusted": true
      },
      "outputs": [
        {
          "execution_count": 2,
          "output_type": "execute_result",
          "data": {
            "text/plain": "3.3333333333333335"
          },
          "metadata": {}
        }
      ],
      "execution_count": 2
    },
    {
      "cell_type": "markdown",
      "source": "**Objectives:**",
      "metadata": {}
    },
    {
      "cell_type": "markdown",
      "source": "* List of popular languages for data science\n* List of libraries for data science\n* Create column in Jupyter Notebook\n* Evaluating arithmatic expressions in Python\n* Create heading in JupyterLab",
      "metadata": {}
    },
    {
      "cell_type": "markdown",
      "source": "## Author\nIndah Mustika Dewi",
      "metadata": {}
    },
    {
      "cell_type": "code",
      "source": "",
      "metadata": {
        "trusted": true
      },
      "outputs": [],
      "execution_count": null
    }
  ]
}